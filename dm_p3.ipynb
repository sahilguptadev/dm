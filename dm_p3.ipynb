{
 "cells": [
  {
   "cell_type": "raw",
   "id": "0d58afc7",
   "metadata": {},
   "source": [
    "Load the data from wine dataset. Check whether all attributes are standardized or not (mean is 0 and standard deviation is 1). If not, standardize the attributes. Do the same with Iris dataset."
   ]
  },
  {
   "cell_type": "code",
   "execution_count": null,
   "id": "b361e6a2",
   "metadata": {},
   "outputs": [],
   "source": [
    "import pandas as pd\n",
    "from sklearn.preprocessing import StandardScaler\n",
    "\n",
    "# Load the Wine dataset\n",
    "wine_df = pd.read_csv(\"Wine dataset.csv\")\n",
    "wine_df.head(5)\n",
    "\n",
    "# Check if attributes are standardized\n",
    "if ((iris_df.mean(axis=0) == 0).all() and (iris_df.std(axis=0) == 1).all()):\n",
    "    print(\"All attributes in the iris dataset are already standardized\")\n",
    "else:\n",
    "    print(\"All attributes in the iris dataset are not standardized\")\n"
   ]
  },
  {
   "cell_type": "code",
   "execution_count": null,
   "id": "5b329674",
   "metadata": {},
   "outputs": [],
   "source": [
    "# Standardize the attributes\n",
    "scaler = StandardScaler()\n",
    "iris_df_standardized = scaler.fit_transform(iris_df)\n",
    "iris_df = pd.DataFrame(iris_df_standardized, columns=iris_df.columns)\n",
    "print(\"Now, all attributes are standardized\")"
   ]
  },
  {
   "cell_type": "code",
   "execution_count": null,
   "id": "102ec97b",
   "metadata": {},
   "outputs": [],
   "source": [
    "# Load the Iris dataset\n",
    "iris_df = pd.read_csv(\"iris_dirty.csv\")\n",
    "iris_df = iris_df.drop(columns=['Species']).dropna()\n",
    "iris_df.head(7)"
   ]
  },
  {
   "cell_type": "code",
   "execution_count": null,
   "id": "18fd7ce8",
   "metadata": {},
   "outputs": [],
   "source": [
    "# Check if attributes are standardized\n",
    "if ((iris_df.mean(axis=0) == 0).all() and (iris_df.std(axis=0) == 1).all()):\n",
    "    print(\"All attributes in the iris dataset are already standardized\")\n",
    "else:\n",
    "    print(\"All attributes in the iris dataset are not standardized\")"
   ]
  },
  {
   "cell_type": "code",
   "execution_count": null,
   "id": "90be21cd",
   "metadata": {},
   "outputs": [],
   "source": [
    "# Standardize the attributes\n",
    "scaler = StandardScaler()\n",
    "iris_df_standardized = scaler.fit_transform(iris_df)\n",
    "iris_df = pd.DataFrame(iris_df_standardized, columns=iris_df.columns)\n",
    "print(\"Now, all attributes are standardized\")"
   ]
  }
 ],
 "metadata": {
  "kernelspec": {
   "display_name": "Python 3 (ipykernel)",
   "language": "python",
   "name": "python3"
  },
  "language_info": {
   "codemirror_mode": {
    "name": "ipython",
    "version": 3
   },
   "file_extension": ".py",
   "mimetype": "text/x-python",
   "name": "python",
   "nbconvert_exporter": "python",
   "pygments_lexer": "ipython3",
   "version": "3.11.4"
  }
 },
 "nbformat": 4,
 "nbformat_minor": 5
}
