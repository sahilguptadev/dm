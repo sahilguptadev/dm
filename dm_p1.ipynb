{
 "cells": [
  {
   "cell_type": "raw",
   "id": "8b7c48ca",
   "metadata": {},
   "source": [
    "Section 1: Preprocessing \n",
    "Q1. Create a file “people.txt” with the following data:\n",
    "i.Read the data from the file “people.txt”.\n",
    "ii.Create a ruleset E that contain rules to check for the following conditions: \n",
    "1. The age should be in the range 0-150.\n",
    "2. The age should be greater than yearsmarried. \n",
    "3. The status should be married or single or widowed.\n",
    "4. If age is less than 18 the agegroup should be child, if age is between 18 and 65 the agegroup should be adult, if age is more than 65 the agegroup should be elderly.\n",
    "iii.Check whether ruleset E is violated by the data in the file people.txt. \n",
    "iv.Summarize the results obtained in part (iii)\n",
    " Visualize the results obtained in part (iii)"
   ]
  },
  {
   "cell_type": "code",
   "execution_count": null,
   "id": "3eb01e6d",
   "metadata": {},
   "outputs": [],
   "source": [
    "#Before implementing thi code create the file with given data\n",
    "import numpy as np\n",
    "import pandas as pd\n",
    "import matplotlib.pyplot as plt\n",
    "\n",
    "# [i] reading data from file\n",
    "\n",
    "path = 'people.txt'\n",
    "df = pd.read_table(path, sep=',', header=0)\n",
    "\n",
    "df\n",
    "df.info()"
   ]
  },
  {
   "cell_type": "code",
   "execution_count": null,
   "id": "d9ff3a7d",
   "metadata": {},
   "outputs": [],
   "source": [
    "# [ii] Ruleset definition\n",
    "\n",
    "def E(row):\n",
    "    errorlist = []\n",
    "\n",
    "    #rule 1\n",
    "    if not (0 <= row['age'] <= 150):\n",
    "        errorlist.append('age should be in range 0-150')\n",
    "\n",
    "    #rule 2\n",
    "    if not(row['age'] > row['yearsmarried']):\n",
    "        errorlist.append('age should be greater than years married')\n",
    "\n",
    "    #rule 3\n",
    "    if row['status'] not in ['single','married','widowed']:\n",
    "        errorlist.append(\"status must be 'single' or 'married' or 'widowed'\")\n",
    "\n",
    "    #rule 4\n",
    "    #expected_agegroup = ''\n",
    "    if row['age'] < 18:\n",
    "        expected_agegroup = 'child'\n",
    "    elif 18 <= row['age'] < 65:\n",
    "        expected_agegroup = 'adult'\n",
    "    else:\n",
    "        expected_agegroup = 'elderly'\n",
    "\n",
    "    if row['agegroup'] != expected_agegroup:\n",
    "        errorlist.append(f\"expected age group:'{expected_agegroup}', received: '{row['agegroup']}'\")\n",
    "\n",
    "    return errorlist"
   ]
  },
  {
   "cell_type": "code",
   "execution_count": null,
   "id": "e2854d6a",
   "metadata": {},
   "outputs": [],
   "source": [
    "# [iii] Applying Rulset to check for rule violations\n",
    "df['ERRORS'] = df.apply(E, axis=1)\n",
    "df"
   ]
  },
  {
   "cell_type": "code",
   "execution_count": null,
   "id": "91829c2d",
   "metadata": {},
   "outputs": [],
   "source": [
    "# [iv] data summarization\n",
    "\n",
    "vio = df[df['ERRORS'].apply(lambda x: len(x) > 0)]\n",
    "vio"
   ]
  },
  {
   "cell_type": "code",
   "execution_count": null,
   "id": "b50d2f69",
   "metadata": {},
   "outputs": [],
   "source": [
    "# [v] visualizing the summarizations\n",
    "\n",
    "# Flatten the list of errors and count occurrences\n",
    "error_counts = vio['ERRORS'].explode().value_counts()\n",
    "print(error_counts)\n",
    "\n",
    "# Plotting\n",
    "error_counts.plot(kind='bar')\n",
    "plt.title('Visualization of Rule Violations')\n",
    "plt.xlabel('Rules')\n",
    "plt.ylabel('Number of Violations')\n",
    "plt.xticks(rotation=45)\n",
    "plt.tight_layout()\n",
    "plt.show()"
   ]
  }
 ],
 "metadata": {
  "kernelspec": {
   "display_name": "Python 3 (ipykernel)",
   "language": "python",
   "name": "python3"
  },
  "language_info": {
   "codemirror_mode": {
    "name": "ipython",
    "version": 3
   },
   "file_extension": ".py",
   "mimetype": "text/x-python",
   "name": "python",
   "nbconvert_exporter": "python",
   "pygments_lexer": "ipython3",
   "version": "3.11.4"
  }
 },
 "nbformat": 4,
 "nbformat_minor": 5
}
