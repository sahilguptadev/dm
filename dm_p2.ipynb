{
 "cells": [
  {
   "cell_type": "raw",
   "id": "5bb1e6e7",
   "metadata": {},
   "source": [
    "Q2. Perform the following preprocessing tasks on the dirty_iris dataset.\n",
    "i.Calculate the number and percentage of observations that are complete. \n",
    "ii. Replace all the special values in data with NA.\n",
    "iii. Define these rules in a separate text file and read them. (Use editfile function in R (package editrules). Use similar function in Python). Print the resulting constraint object.\n",
    "–Species should be one of the following values: setosa, versicolor or virginica.\n",
    "–All measured numerical properties of an iris should be positive.\n",
    "–The petal length of an iris is at least 2 times its petal width. \n",
    "–The sepal length of an iris cannot exceed 30 cm.\n",
    "–The sepals of an iris are longer than its petals.\n",
    "iv.Determine how often each rule is broken (violatedEdits). Also summarize and plot the result.\n",
    "Find outliers in sepal length using boxplot and boxplot.stats"
   ]
  },
  {
   "cell_type": "code",
   "execution_count": null,
   "id": "74aa9715",
   "metadata": {},
   "outputs": [],
   "source": [
    "#create the req files before running\n",
    "import pandas as pd\n",
    "import numpy as np\n",
    "import matplotlib.pyplot as plt\n",
    "import seaborn as sns\n",
    "\n",
    "df = pd.read_csv('iris_dirty.csv')\n",
    "df.info()\n",
    "\n",
    "df['Sepal.Width'].value_counts()\n",
    "\n",
    "# [i] Number and percentage of complete obeservations\n",
    "\n",
    "df_completeobs = df.dropna()\n",
    "\n",
    "total_obs = len(df) \n",
    "notna_obs = len(df_completeobs)\n",
    "perc_notna_obs = notna_obs/total_obs*100 #BODMAS WORKS \n",
    "\n",
    "print('Total Observations: ', total_obs)\n",
    "print('Complete Observations: ', notna_obs)\n",
    "print('Percentage of Complete Observations: ', perc_notna_obs,' %', sep='')"
   ]
  },
  {
   "cell_type": "code",
   "execution_count": null,
   "id": "a5b94ecf",
   "metadata": {},
   "outputs": [],
   "source": [
    "#Replace all special values with NA\n",
    "\n",
    "cols_to_check = ['Sepal.Length','Sepal.Width','Petal.Length','Petal.Width']\n",
    "\n",
    "df[df[cols_to_check] == 'inf'] = pd.NA"
   ]
  },
  {
   "cell_type": "code",
   "execution_count": null,
   "id": "f88a59fd",
   "metadata": {},
   "outputs": [],
   "source": [
    " #[iii] Ruleset definition\n",
    "\n",
    "def DirtyIrisRuleset(row):\n",
    "    errorlist = []\n",
    "\n",
    "    #rule 1\n",
    "    if row['Species'] not in ['setosa','versicolor','virginica']:\n",
    "        errorlist.append(\"species must be 'setosa' or 'versicolor' or 'virginica'\")\n",
    "    \n",
    "    #rule 2\n",
    "    if (row['Sepal.Length'] <= 0) or (row['Sepal.Width'] <= 0):\n",
    "        errorlist.append('numerical properties cannot be zero')\n",
    "    elif (row['Petal.Length'] <= 0) or (row['Petal.Length'] <= 0):\n",
    "        errorlist.append('numerical properties cannot be zero')\n",
    "    else:\n",
    "        pass\n",
    "\n",
    "    #rule 3\n",
    "    if row['Sepal.Length'] < row['Petal.Width']:\n",
    "        errorlist.append('sepal length must be atleast 2x petal width')\n",
    "    \n",
    "    #rule 4\n",
    "    if row['Sepal.Length'] > 30:\n",
    "        errorlist.append(\"sepal length must not be > 30\")\n",
    "\n",
    "    #rule 5\n",
    "    if row['Sepal.Length'] <= row['Petal.Length']:\n",
    "        errorlist.append(\"sepal length must be longer than petal length\")\n",
    "\n",
    "    return errorlist"
   ]
  },
  {
   "cell_type": "code",
   "execution_count": null,
   "id": "eedd92f0",
   "metadata": {},
   "outputs": [],
   "source": [
    "#Importing Ruleset\n",
    "from ruleset_for_dmp2 import DirtyIrisRuleset as E\n",
    "\n",
    "# [iv] Applying Rulset and visualizing results\n",
    "df['ERRORS'] = df.apply(E, axis=1)\n",
    "\n",
    "# data summarization \n",
    "vio = df[df['ERRORS'].apply(lambda x: len(x) > 0)]\n",
    "df = df.drop(columns='ERRORS')\n",
    "\n",
    "# Flatten the list of errors and count occurrences\n",
    "error_counts = vio['ERRORS'].explode().value_counts()\n",
    "print(error_counts)\n",
    "\n",
    "# Plotting\n",
    "error_counts.plot(kind='bar')\n",
    "plt.title('Visualization of Rule Violations')\n",
    "plt.xlabel('Rules')\n",
    "plt.ylabel('Number of Violations')\n",
    "plt.xticks(rotation=45)\n",
    "plt.tight_layout()\n",
    "plt.show()"
   ]
  },
  {
   "cell_type": "code",
   "execution_count": null,
   "id": "8a66f0df",
   "metadata": {},
   "outputs": [],
   "source": [
    "# plotting boxplot\n",
    "plt.figure()\n",
    "sns.boxplot(x=df['Sepal.Length'])\n",
    "plt.title('Boxplot of Sepal Length')\n",
    "plt.show()\n",
    "\n",
    "# indentifying outliers using interquartile ranges\n",
    "Q1 = df['Sepal.Length'].quantile(0.25)\n",
    "Q3 = df['Sepal.Length'].quantile(0.75)\n",
    "IQR = Q3 - Q1\n",
    "\n",
    "lower_bound = Q1 - 1.5 * IQR\n",
    "upper_bound = Q3 + 1.5 * IQR\n",
    "\n",
    "# detecting and printing outliers\n",
    "outliers = df[(df['Sepal.Length'] < lower_bound) | (df['Sepal.Length'] > upper_bound)]\n",
    "print(\"Detected Outliers:\")\n",
    "print(outliers)"
   ]
  }
 ],
 "metadata": {
  "kernelspec": {
   "display_name": "Python 3 (ipykernel)",
   "language": "python",
   "name": "python3"
  },
  "language_info": {
   "codemirror_mode": {
    "name": "ipython",
    "version": 3
   },
   "file_extension": ".py",
   "mimetype": "text/x-python",
   "name": "python",
   "nbconvert_exporter": "python",
   "pygments_lexer": "ipython3",
   "version": "3.11.4"
  }
 },
 "nbformat": 4,
 "nbformat_minor": 5
}
